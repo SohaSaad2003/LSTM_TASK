{
 "cells": [
  {
   "cell_type": "code",
   "execution_count": 2,
   "id": "d6b5784e",
   "metadata": {},
   "outputs": [
    {
     "name": "stdout",
     "output_type": "stream",
     "text": [
      "Predicted value: 1.1264759605898507\n"
     ]
    }
   ],
   "source": [
    "import numpy as np\n",
    "\n",
    "def sigmoid(x):\n",
    "    return 1 / (1 + np.exp(-x))\n",
    "\n",
    "def tanh(x):\n",
    "    return np.tanh(x)\n",
    "\n",
    "# Initialize parameters\n",
    "Wx = np.array([[0.2]])  # Input weight\n",
    "Wh = np.array([[0.5]])  # Hidden state weight\n",
    "b = np.array([[0.1]])   # Bias\n",
    "\n",
    "# Initial hidden state and cell state\n",
    "h_t = np.array([[0]])\n",
    "c_t = np.array([[0]])\n",
    "\n",
    "# Input sequence\n",
    "X = np.array([[1], [2], [3], [4]])\n",
    "\n",
    "# LSTM computation for each time step\n",
    "def lstm_step(x_t, h_t, c_t):\n",
    "    # Forget gate\n",
    "    f_t = sigmoid(np.dot(Wx, x_t) + np.dot(Wh, h_t) + b)\n",
    "    \n",
    "    # Input gate\n",
    "    i_t = sigmoid(np.dot(Wx, x_t) + np.dot(Wh, h_t) + b)\n",
    "    \n",
    "    # Candidate cell state\n",
    "    c_tilde_t = tanh(np.dot(Wx, x_t) + np.dot(Wh, h_t) + b)\n",
    "    \n",
    "    # Cell state update\n",
    "    c_t = f_t * c_t + i_t * c_tilde_t\n",
    "    \n",
    "    # Output gate\n",
    "    o_t = sigmoid(np.dot(Wx, x_t) + np.dot(Wh, h_t) + b)\n",
    "    \n",
    "    # Hidden state update\n",
    "    h_t = o_t * tanh(c_t)\n",
    "    \n",
    "    return h_t, c_t\n",
    "\n",
    "# Process each time step\n",
    "for x_t in X:\n",
    "    h_t, c_t = lstm_step(x_t, h_t, c_t)\n",
    "\n",
    "# Final prediction (simple linear mapping)\n",
    "W_y = np.array([[1]])\n",
    "b_y = np.array([[0.5]])\n",
    "\n",
    "y_hat = np.dot(W_y, h_t) + b_y\n",
    "print(\"Predicted value:\", y_hat[0][0])\n"
   ]
  },
  {
   "cell_type": "code",
   "execution_count": null,
   "id": "ca6727a7",
   "metadata": {},
   "outputs": [],
   "source": []
  }
 ],
 "metadata": {
  "kernelspec": {
   "display_name": "Python 3 (ipykernel)",
   "language": "python",
   "name": "python3"
  },
  "language_info": {
   "codemirror_mode": {
    "name": "ipython",
    "version": 3
   },
   "file_extension": ".py",
   "mimetype": "text/x-python",
   "name": "python",
   "nbconvert_exporter": "python",
   "pygments_lexer": "ipython3",
   "version": "3.9.13"
  }
 },
 "nbformat": 4,
 "nbformat_minor": 5
}
